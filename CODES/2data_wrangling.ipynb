{
 "cells": [
  {
   "cell_type": "code",
   "execution_count": 2,
   "id": "3fcb4918",
   "metadata": {},
   "outputs": [
    {
     "name": "stdout",
     "output_type": "stream",
     "text": [
      "Requirement already satisfied: articledownloader in c:\\users\\hp\\desktop\\feb research\\venv\\lib\\site-packages (9.1.1)\n",
      "Note: you may need to restart the kernel to use updated packages.\n"
     ]
    }
   ],
   "source": [
    "pip install articledownloader\n"
   ]
  },
  {
   "cell_type": "code",
   "execution_count": 3,
   "id": "933524a5",
   "metadata": {},
   "outputs": [
    {
     "name": "stdout",
     "output_type": "stream",
     "text": [
      "Requirement already satisfied: Autologging in c:\\users\\hp\\desktop\\feb research\\venv\\lib\\site-packages (1.3.2)\n"
     ]
    }
   ],
   "source": [
    "!pip install Autologging\n"
   ]
  },
  {
   "cell_type": "code",
   "execution_count": 4,
   "id": "6dce2a5b",
   "metadata": {},
   "outputs": [],
   "source": [
    "from bs4 import BeautifulSoup\n",
    "import re\n",
    "import unicodedata\n",
    "from articledownloader.articledownloader import ArticleDownloader\n",
    "downloader = ArticleDownloader('e46dd526a567506b5b2a4a6dda9963cd') # Personal Elsevier api key\n",
    "import xml.etree.cElementTree as ET\n",
    "import pandas as pd"
   ]
  },
  {
   "cell_type": "code",
   "execution_count": 5,
   "id": "154d0719",
   "metadata": {},
   "outputs": [
    {
     "name": "stdout",
     "output_type": "stream",
     "text": [
      "\n",
      "Processed articles : 3014\n",
      "Total paragraphs   : 110159\n"
     ]
    }
   ],
   "source": [
    "import os, glob, re, unicodedata, xml.etree.ElementTree as ET\n",
    "\n",
    "# ── PATH TO DOWNLOADED XMLs ───────────────────────────────\n",
    "XML_DIR = os.path.join(os.path.dirname('venv'), \"xmlfiles\")  # adjust if needed\n",
    "# ───────────────────────────────────────────────────────────\n",
    "\n",
    "repo         = []   # [doi, title, abstract, [para1, para2, …], n_paras]\n",
    "para_counter = 0\n",
    "\n",
    "# namespaces used in Elsevier Full-Text XML\n",
    "NS_BASIC = '{http://prismstandard.org/namespaces/basic/2.0/}'\n",
    "NS_DC    = '{http://purl.org/dc/elements/1.1/}'\n",
    "NS_PARA  = '{http://www.elsevier.com/xml/common/dtd}para'\n",
    "\n",
    "for xml_path in glob.glob(os.path.join(XML_DIR, \"*.xml\")):\n",
    "    try:\n",
    "        tree = ET.parse(xml_path)\n",
    "        root = tree.getroot()\n",
    "\n",
    "        paper_detail = []\n",
    "\n",
    "        # -- DOI, title, abstract (they live in the first child “head” element) --\n",
    "        for elem in root[0]:\n",
    "            if   elem.tag == NS_BASIC + \"doi\":\n",
    "                paper_detail.append(elem.text or \"\")\n",
    "            elif elem.tag == NS_DC + \"title\":\n",
    "                paper_detail.append(elem.text or \"\")\n",
    "            elif elem.tag == NS_DC + \"description\":\n",
    "                txt = re.sub(r\"\\s+\", \" \", (elem.text or \"\").strip())\n",
    "                paper_detail.append(unicodedata.normalize(\"NFKD\", txt))\n",
    "\n",
    "        # -- Paragraphs --\n",
    "        paragraphs = []\n",
    "        for p in tree.iter(NS_PARA):\n",
    "            chunk = \"\".join(unicodedata.normalize(\"NFKD\", t.strip())\n",
    "                            for t in p.itertext()).strip()\n",
    "            if chunk:\n",
    "                paragraphs.append(chunk)\n",
    "\n",
    "        paper_detail.append(paragraphs)\n",
    "        paper_detail.append(len(paragraphs))\n",
    "\n",
    "        para_counter += len(paragraphs)\n",
    "        repo.append(paper_detail)\n",
    "\n",
    "    except Exception as e:\n",
    "        # Skip malformed / unexpected XML but keep going\n",
    "        print(f\"Skipped {os.path.basename(xml_path)}: {e}\")\n",
    "\n",
    "print(f\"\\nProcessed articles : {len(repo)}\")\n",
    "print(f\"Total paragraphs   : {para_counter}\")\n"
   ]
  },
  {
   "cell_type": "code",
   "execution_count": 6,
   "id": "e351d50c",
   "metadata": {},
   "outputs": [],
   "source": [
    "import pandas as pd\n",
    "\n",
    "df = pd.DataFrame(repo,\n",
    "                  columns=[\"doi\", \"title\", \"abstract\", \"paragraphs\", \"n_paras\"])\n",
    "# explode if you want one row per paragraph\n",
    "df_long = df.explode(\"paragraphs\", ignore_index=True)   # one row per para\n"
   ]
  },
  {
   "cell_type": "code",
   "execution_count": 7,
   "id": "634c1dc6",
   "metadata": {},
   "outputs": [],
   "source": [
    "df.to_pickle(\"article_meta.pkl\")          # preserves Python objects\n",
    "df_long.to_csv(\"article_paragraphs.csv\", index=False)\n"
   ]
  },
  {
   "cell_type": "code",
   "execution_count": 8,
   "id": "f9ce725b",
   "metadata": {},
   "outputs": [
    {
     "name": "stdout",
     "output_type": "stream",
     "text": [
      "✓  DataFrame saved to: c:\\Users\\hp\\Desktop\\feb research\\venv\\xmlAndHTML_data.csv\n"
     ]
    }
   ],
   "source": [
    "import sys\n",
    "from pathlib import Path\n",
    "import pandas as pd\n",
    "\n",
    "# df already exists in memory ────────────────────────────────\n",
    "# If not, re-run the cell that builds it from repo first.\n",
    "\n",
    "# 1) Locate the root of the *currently-active* venv\n",
    "venv_root = Path(sys.prefix)            # e.g. …/myproject/venv\n",
    "\n",
    "# 2) Decide where inside that venv you want the CSV\n",
    "csv_path = venv_root / \"xmlAndHTML_data.csv\"   # …/venv/xmlAndHTML_data.csv\n",
    "\n",
    "# (optional) put it in a subfolder instead:\n",
    "# data_dir = venv_root / \"data\"\n",
    "# data_dir.mkdir(exist_ok=True)\n",
    "# csv_path = data_dir / \"xmlAndHTML_data.csv\"\n",
    "\n",
    "# 3) Write the DataFrame\n",
    "df.to_csv(csv_path, index=False)\n",
    "\n",
    "print(f\"✓  DataFrame saved to: {csv_path}\")\n"
   ]
  },
  {
   "cell_type": "code",
   "execution_count": 9,
   "id": "f4ea6d2b",
   "metadata": {},
   "outputs": [
    {
     "data": {
      "text/html": [
       "<div>\n",
       "<style scoped>\n",
       "    .dataframe tbody tr th:only-of-type {\n",
       "        vertical-align: middle;\n",
       "    }\n",
       "\n",
       "    .dataframe tbody tr th {\n",
       "        vertical-align: top;\n",
       "    }\n",
       "\n",
       "    .dataframe thead th {\n",
       "        text-align: right;\n",
       "    }\n",
       "</style>\n",
       "<table border=\"1\" class=\"dataframe\">\n",
       "  <thead>\n",
       "    <tr style=\"text-align: right;\">\n",
       "      <th></th>\n",
       "      <th>doi</th>\n",
       "      <th>title</th>\n",
       "      <th>abstract</th>\n",
       "      <th>paragraphs</th>\n",
       "      <th>n_paras</th>\n",
       "    </tr>\n",
       "    <tr>\n",
       "      <th>Serial_No</th>\n",
       "      <th></th>\n",
       "      <th></th>\n",
       "      <th></th>\n",
       "      <th></th>\n",
       "      <th></th>\n",
       "    </tr>\n",
       "  </thead>\n",
       "  <tbody>\n",
       "    <tr>\n",
       "      <th>3009</th>\n",
       "      <td>10.1016/S1466-6049(01)00122-2</td>\n",
       "      <td>Importance of soft solution processing for adv...</td>\n",
       "      <td>Barium zirconate is an interesting material fo...</td>\n",
       "      <td>['Ceramic materials are used for a wide variet...</td>\n",
       "      <td>16</td>\n",
       "    </tr>\n",
       "    <tr>\n",
       "      <th>3010</th>\n",
       "      <td>10.1016/S1468-6996(01)00120-6</td>\n",
       "      <td>Preparation of alumina–silica–nickel nanocompo...</td>\n",
       "      <td>Ceramic based composites with dispersion of na...</td>\n",
       "      <td>['Nanocomposite materials have generated profo...</td>\n",
       "      <td>19</td>\n",
       "    </tr>\n",
       "    <tr>\n",
       "      <th>3011</th>\n",
       "      <td>10.1016/S1468-6996(02)00038-4</td>\n",
       "      <td>Boride coatings on non-ferrous materials in a ...</td>\n",
       "      <td>Fluidized bed technology has been successfully...</td>\n",
       "      <td>['Heat treatments of alloys in fluidized bed r...</td>\n",
       "      <td>32</td>\n",
       "    </tr>\n",
       "    <tr>\n",
       "      <th>3012</th>\n",
       "      <td>10.1016/S1468-6996(03)00011-1</td>\n",
       "      <td>The preparation and properties of CeO2–TiO2 fi...</td>\n",
       "      <td>Ultraviolet absorbing CeO2–TiO2 coatings were ...</td>\n",
       "      <td>['It is well known that amorphous and crystall...</td>\n",
       "      <td>22</td>\n",
       "    </tr>\n",
       "    <tr>\n",
       "      <th>3013</th>\n",
       "      <td>10.1016/S2238-7854(12)70023-6</td>\n",
       "      <td>Use of Stainless Steel AISI 304 for Catalytic ...</td>\n",
       "      <td>Nanomaterials (CNMs) have extraordinary mechan...</td>\n",
       "      <td>[]</td>\n",
       "      <td>0</td>\n",
       "    </tr>\n",
       "  </tbody>\n",
       "</table>\n",
       "</div>"
      ],
      "text/plain": [
       "                                     doi  \\\n",
       "Serial_No                                  \n",
       "3009       10.1016/S1466-6049(01)00122-2   \n",
       "3010       10.1016/S1468-6996(01)00120-6   \n",
       "3011       10.1016/S1468-6996(02)00038-4   \n",
       "3012       10.1016/S1468-6996(03)00011-1   \n",
       "3013       10.1016/S2238-7854(12)70023-6   \n",
       "\n",
       "                                                       title  \\\n",
       "Serial_No                                                      \n",
       "3009       Importance of soft solution processing for adv...   \n",
       "3010       Preparation of alumina–silica–nickel nanocompo...   \n",
       "3011       Boride coatings on non-ferrous materials in a ...   \n",
       "3012       The preparation and properties of CeO2–TiO2 fi...   \n",
       "3013       Use of Stainless Steel AISI 304 for Catalytic ...   \n",
       "\n",
       "                                                    abstract  \\\n",
       "Serial_No                                                      \n",
       "3009       Barium zirconate is an interesting material fo...   \n",
       "3010       Ceramic based composites with dispersion of na...   \n",
       "3011       Fluidized bed technology has been successfully...   \n",
       "3012       Ultraviolet absorbing CeO2–TiO2 coatings were ...   \n",
       "3013       Nanomaterials (CNMs) have extraordinary mechan...   \n",
       "\n",
       "                                                  paragraphs  n_paras  \n",
       "Serial_No                                                              \n",
       "3009       ['Ceramic materials are used for a wide variet...       16  \n",
       "3010       ['Nanocomposite materials have generated profo...       19  \n",
       "3011       ['Heat treatments of alloys in fluidized bed r...       32  \n",
       "3012       ['It is well known that amorphous and crystall...       22  \n",
       "3013                                                      []        0  "
      ]
     },
     "execution_count": 9,
     "metadata": {},
     "output_type": "execute_result"
    }
   ],
   "source": [
    "import ast, pandas as pd, sys\n",
    "from pathlib import Path\n",
    "\n",
    "csv_path = Path(sys.prefix) / \"xmlAndHTML_data.csv\"\n",
    "\n",
    "xml = pd.read_csv(\n",
    "        csv_path,\n",
    "        converters={\"Para_list\": ast.literal_eval}\n",
    "      )\n",
    "\n",
    "# Make a fresh serial index starting at 0\n",
    "xml.index = range(len(xml))\n",
    "xml.index.name = \"Serial_No\"\n",
    "\n",
    "xml.tail()   # check it looks right\n"
   ]
  },
  {
   "cell_type": "code",
   "execution_count": 10,
   "id": "4ef52460",
   "metadata": {},
   "outputs": [
    {
     "data": {
      "text/plain": [
       "(3014, 5)"
      ]
     },
     "execution_count": 10,
     "metadata": {},
     "output_type": "execute_result"
    }
   ],
   "source": [
    "import ast, sys, pandas as pd\n",
    "from pathlib import Path\n",
    "\n",
    "csv_path = Path(sys.prefix) / \"xmlAndHTML_data.csv\"   # …/venv/xmlAndHTML_data.csv\n",
    "combo     = pd.read_csv(csv_path,\n",
    "                        converters={\"Para_list\": ast.literal_eval})\n",
    "\n",
    "combo.shape\n"
   ]
  },
  {
   "cell_type": "code",
   "execution_count": null,
   "id": "21379fac",
   "metadata": {},
   "outputs": [
    {
     "data": {
      "text/plain": [
       "110159"
      ]
     },
     "execution_count": 12,
     "metadata": {},
     "output_type": "execute_result"
    }
   ],
   "source": [
    "list_para = []\n",
    "for para_list in df2:\n",
    "    for para in para_list:\n",
    "        list_para.append(para)\n",
    "    \n",
    "len(list_para)  "
   ]
  }
 ],
 "metadata": {
  "kernelspec": {
   "display_name": "venv",
   "language": "python",
   "name": "python3"
  },
  "language_info": {
   "codemirror_mode": {
    "name": "ipython",
    "version": 3
   },
   "file_extension": ".py",
   "mimetype": "text/x-python",
   "name": "python",
   "nbconvert_exporter": "python",
   "pygments_lexer": "ipython3",
   "version": "3.10.0"
  }
 },
 "nbformat": 4,
 "nbformat_minor": 5
}
