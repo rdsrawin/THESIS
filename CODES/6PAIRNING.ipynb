{
 "cells": [
  {
   "cell_type": "code",
   "execution_count": 5,
   "id": "f1ddfea8",
   "metadata": {},
   "outputs": [
    {
     "name": "stdout",
     "output_type": "stream",
     "text": [
      "Index(['row_id', 'DOI', 'Title', 'text'], dtype='object')\n",
      "   row_id                     DOI  \\\n",
      "0       0  10.1006/jcis.1996.4536   \n",
      "1       1  10.1006/jssc.1999.8570   \n",
      "\n",
      "                                               Title text  \n",
      "0  Characterization of the Interface between a Ro...  NaN  \n",
      "1  Relationships between Structure and Physical P...  NaN  \n"
     ]
    }
   ],
   "source": [
    "import pandas as pd, ast\n",
    "\n",
    "# 1) Read the raw metadata CSV\n",
    "df_meta = pd.read_csv(\"xmlAndHTML_data.csv\")\n",
    "\n",
    "# 2) Convert the “Para_list” strings back to Python lists\n",
    "df_meta[\"Para_list\"] = df_meta[\"Para_list\"].apply(\n",
    "    lambda x: ast.literal_eval(x) if pd.notna(x) and x.strip() else []\n",
    ")\n",
    "\n",
    "# 3) Explode so each paragraph is its own row, rename to “text”\n",
    "df_long = (\n",
    "    df_meta[[\"DOI\",\"Title\",\"Para_list\"]]\n",
    "      .explode(\"Para_list\", ignore_index=True)\n",
    "      .rename(columns={\"Para_list\":\"text\"})\n",
    ")\n",
    "\n",
    "# 4) Add the row_id index\n",
    "df_long = df_long.reset_index().rename(columns={\"index\":\"row_id\"})\n",
    "\n",
    "# Quick sanity check\n",
    "print(df_long.columns)   # should include 'row_id' and 'text'\n",
    "print(df_long.head(2))\n"
   ]
  },
  {
   "cell_type": "code",
   "execution_count": 6,
   "id": "c464cf3d",
   "metadata": {},
   "outputs": [],
   "source": [
    "all_texts = df_long[\"text\"].tolist()\n"
   ]
  },
  {
   "cell_type": "code",
   "execution_count": 9,
   "id": "b54e9906",
   "metadata": {},
   "outputs": [
    {
     "name": "stdout",
     "output_type": "stream",
     "text": [
      "Collecting opensearch-py\n",
      "  Downloading opensearch_py-2.8.0-py3-none-any.whl.metadata (6.9 kB)\n",
      "Requirement already satisfied: urllib3!=2.2.0,!=2.2.1,<3,>=1.26.19 in c:\\users\\hp\\desktop\\feb research\\venv\\lib\\site-packages (from opensearch-py) (2.4.0)\n",
      "Requirement already satisfied: requests<3.0.0,>=2.32.0 in c:\\users\\hp\\desktop\\feb research\\venv\\lib\\site-packages (from opensearch-py) (2.32.3)\n",
      "Requirement already satisfied: python-dateutil in c:\\users\\hp\\desktop\\feb research\\venv\\lib\\site-packages (from opensearch-py) (2.9.0.post0)\n",
      "Requirement already satisfied: certifi>=2024.07.04 in c:\\users\\hp\\desktop\\feb research\\venv\\lib\\site-packages (from opensearch-py) (2025.1.31)\n",
      "Collecting Events (from opensearch-py)\n",
      "  Downloading Events-0.5-py3-none-any.whl.metadata (3.9 kB)\n",
      "Requirement already satisfied: charset-normalizer<4,>=2 in c:\\users\\hp\\desktop\\feb research\\venv\\lib\\site-packages (from requests<3.0.0,>=2.32.0->opensearch-py) (3.4.1)\n",
      "Requirement already satisfied: idna<4,>=2.5 in c:\\users\\hp\\desktop\\feb research\\venv\\lib\\site-packages (from requests<3.0.0,>=2.32.0->opensearch-py) (3.10)\n",
      "Requirement already satisfied: six>=1.5 in c:\\users\\hp\\desktop\\feb research\\venv\\lib\\site-packages (from python-dateutil->opensearch-py) (1.17.0)\n",
      "Downloading opensearch_py-2.8.0-py3-none-any.whl (353 kB)\n",
      "Downloading Events-0.5-py3-none-any.whl (6.8 kB)\n",
      "Installing collected packages: Events, opensearch-py\n",
      "\n",
      "   -------------------- ------------------- 1/2 [opensearch-py]\n",
      "   -------------------- ------------------- 1/2 [opensearch-py]\n",
      "   -------------------- ------------------- 1/2 [opensearch-py]\n",
      "   -------------------- ------------------- 1/2 [opensearch-py]\n",
      "   -------------------- ------------------- 1/2 [opensearch-py]\n",
      "   -------------------- ------------------- 1/2 [opensearch-py]\n",
      "   ---------------------------------------- 2/2 [opensearch-py]\n",
      "\n",
      "Successfully installed Events-0.5 opensearch-py-2.8.0\n"
     ]
    }
   ],
   "source": [
    "!pip install opensearch-py\n"
   ]
  },
  {
   "cell_type": "code",
   "execution_count": 10,
   "id": "0559075d",
   "metadata": {},
   "outputs": [],
   "source": [
    "from sentence_transformers import SentenceTransformer, InputExample\n",
    "import faiss, numpy as np, pandas as pd, ast\n",
    "\n",
    "# 1. Load FAISS index + MiniLM texts (384-dim)\n",
    "index      = faiss.read_index(\"paragraph_index.faiss\")\n",
    "paragraphs = np.load(\"paragraph_texts.npy\", allow_pickle=True).tolist()\n",
    "\n",
    "# 2. Load the *same* encoder you used originally\n",
    "model = SentenceTransformer(\"sentence-transformers/all-MiniLM-L6-v2\")\n",
    "\n",
    "def retrieve_mini(query, top_k=5):\n",
    "    q_emb = model.encode([query], normalize_embeddings=True, convert_to_numpy=True).astype(\"float32\")\n",
    "    D, I = index.search(q_emb, top_k)\n",
    "    return [(float(D[0][i]), paragraphs[I[0][i]]) for i in range(len(I[0])) if I[0][i] != -1]\n",
    "\n",
    "# 3. Rebuild df_long\n",
    "df_meta = pd.read_csv(\"xmlAndHTML_data.csv\")\n",
    "df_meta[\"Para_list\"] = df_meta[\"Para_list\"].apply(lambda x: ast.literal_eval(x) if pd.notna(x) and x.strip() else [])\n",
    "df_long  = (df_meta[[\"DOI\",\"Title\",\"Para_list\"]]\n",
    "            .explode(\"Para_list\", ignore_index=True)\n",
    "            .rename(columns={\"Para_list\":\"text\"}))\n",
    "df_long  = df_long.reset_index().rename(columns={\"index\":\"row_id\"})"
   ]
  },
  {
   "cell_type": "code",
   "execution_count": 11,
   "id": "a4a020f5",
   "metadata": {},
   "outputs": [],
   "source": [
    "# 1) Your 50 anchor queries\n",
    "queries = [\n",
    "    # Thermal properties\n",
    "    \"How does heat accumulation affect microstructure formation?\",\n",
    "    \"What is the thermal conductivity of polymer composites?\",\n",
    "    \"How does annealing temperature influence grain growth?\",\n",
    "    \"What role does temperature gradient play in phase transformation?\",\n",
    "    \"How is heat capacity measured in metal alloys?\",\n",
    "    \"How does cooling rate affect dendrite arm spacing?\",\n",
    "    \"What determines thermal diffusivity in ceramics?\",\n",
    "    \"How do porosity and thermal conductivity correlate?\",\n",
    "    \"What is the effect of heat treatment on hardness?\",\n",
    "    \"How does thermal expansion mismatch cause stress?\",\n",
    "    # Mechanical properties\n",
    "    \"What is the Young’s modulus of perovskite materials?\",\n",
    "    \"How is tensile strength affected by CNT reinforcement?\",\n",
    "    \"What influences fracture toughness in NiTi alloys?\",\n",
    "    \"How does creep behavior vary with temperature?\",\n",
    "    \"What is the hardness of nanostructured metallic glass?\",\n",
    "    \"How is fatigue life measured in aluminum composites?\",\n",
    "    \"What factors control yield strength in steels?\",\n",
    "    \"How does microstructure affect compressive strength?\",\n",
    "    \"What is the relationship between grain size and strength?\",\n",
    "    \"How does surface roughness influence wear resistance?\",\n",
    "    # Electrical properties\n",
    "    \"How does CNT film thickness affect composite resistivity?\",\n",
    "    \"What is the dielectric constant of polymer electrolytes?\",\n",
    "    \"How does impurity concentration influence conductivity?\",\n",
    "    \"What is the breakdown voltage of ceramic dielectrics?\",\n",
    "    \"How is electrical resistivity measured in thin films?\",\n",
    "    \"What determines carrier mobility in semiconductors?\",\n",
    "    \"How does doping level affect band gap energy?\",\n",
    "    \"What is the electrical conductivity of graphene?\",\n",
    "    \"How does temperature affect semiconductor conductivity?\",\n",
    "    \"What is the contact resistance of metal–semiconductor junctions?\",\n",
    "    # Electronics properties\n",
    "    \"How is capacitance measured in nanostructured capacitors?\",\n",
    "    \"What influences leakage current in dielectrics?\",\n",
    "    \"How does film thickness affect transistor on-off ratio?\",\n",
    "    \"What is the switching speed of organic LEDs?\",\n",
    "    \"How does channel length affect MOSFET performance?\",\n",
    "    \"What determines the cutoff frequency of RF amplifiers?\",\n",
    "    \"How is inductance measured in micro-coils?\",\n",
    "    \"What is the quality factor of microwave resonators?\",\n",
    "    \"How does doping affect transistor threshold voltage?\",\n",
    "    \"What influences power dissipation in ICs?\",\n",
    "    # Magnetic & optical\n",
    "    \"How is magnetic permeability measured in ferrites?\",\n",
    "    \"What determines saturation magnetization in alloys?\",\n",
    "    \"How does temperature affect Curie temperature?\",\n",
    "    \"What is the refractive index of optical glasses?\",\n",
    "    \"How does surface plasmon resonance depend on particle size?\",\n",
    "    \"What is the photoconductivity of perovskite solar cells?\",\n",
    "    \"How does layer thickness affect optical absorption?\",\n",
    "    \"What influences luminescence lifetime in phosphors?\",\n",
    "    \"How is thermal quenching measured in quantum dots?\",\n",
    "    \"What determines the band gap in quantum wells?\",\n",
    "    # General materials & process\n",
    "    \"How does sintering temperature affect density?\",\n",
    "    \"What is the effect of pressure on phase stability?\",\n",
    "    \"How is diffusion coefficient measured in solids?\",\n",
    "    \"What determines oxidation rate at elevated temperatures?\",\n",
    "    \"How does grain boundary chemistry affect corrosion?\",\n",
    "    \"What is the thermal shock resistance of composites?\",\n",
    "    \"How is surface energy measured in thin films?\",\n",
    "    \"What influences adhesion strength of coatings?\",\n",
    "    \"How does laser power affect ablation rate?\",\n",
    "    \"What determines etch rate in plasma processing?\"\n",
    "]\n"
   ]
  },
  {
   "cell_type": "code",
   "execution_count": 12,
   "id": "772601bf",
   "metadata": {},
   "outputs": [
    {
     "name": "stdout",
     "output_type": "stream",
     "text": [
      "Generated 300 pairs with MiniLM retrieval.\n"
     ]
    }
   ],
   "source": [
    "# 5. Generate examples\n",
    "examples = []\n",
    "for q in queries:\n",
    "    for score, para in retrieve_mini(q, top_k=5):\n",
    "        examples.append(InputExample(texts=[q, para]))\n",
    "\n",
    "print(f\"Generated {len(examples)} pairs with MiniLM retrieval.\")"
   ]
  },
  {
   "cell_type": "code",
   "execution_count": null,
   "id": "43a2726e",
   "metadata": {},
   "outputs": [
    {
     "name": "stderr",
     "output_type": "stream",
     "text": [
      "c:\\Users\\hp\\Desktop\\feb research\\venv\\lib\\site-packages\\huggingface_hub\\utils\\_deprecation.py:131: FutureWarning: 'cached_download' (from 'huggingface_hub.file_download') is deprecated and will be removed from version '0.26'. Use `hf_hub_download` instead.\n",
      "  warnings.warn(warning_message, FutureWarning)\n",
      "No sentence-transformers model found with name C:\\Users\\hp/.cache\\torch\\sentence_transformers\\microsoft_deberta-v3-large. Creating a new one with MEAN pooling.\n",
      "Special tokens have been added in the vocabulary, make sure the associated word embeddings are fine-tuned or trained.\n",
      "c:\\Users\\hp\\Desktop\\feb research\\venv\\lib\\site-packages\\transformers\\convert_slow_tokenizer.py:470: UserWarning: The sentencepiece tokenizer that you are converting to a fast tokenizer uses the byte fallback option which is not implemented in the fast tokenizers. In practice this means that the fast version of the tokenizer can produce unknown tokens whereas the sentencepiece version would have converted these unknown tokens into a sequence of byte tokens matching the original piece of text.\n",
      "  warnings.warn(\n",
      "Special tokens have been added in the vocabulary, make sure the associated word embeddings are fine-tuned or trained.\n",
      "Epoch:   0%|          | 0/3 [00:00<?, ?it/s]"
     ]
    }
   ],
   "source": [
    "from torch.utils.data import DataLoader\n",
    "from sentence_transformers import SentenceTransformer, losses, evaluation\n",
    "import random\n",
    "\n",
    "# 1) Shuffle and split your 300 examples into train/dev\n",
    "random.shuffle(examples)\n",
    "split = int(0.9 * len(examples))\n",
    "train_examples = examples[:split]   # ~270\n",
    "dev_examples   = examples[split:]   # ~30\n",
    "\n",
    "train_dataloader = DataLoader(train_examples, shuffle=True, batch_size=16)\n",
    "dev_dataloader   = DataLoader(dev_examples,   shuffle=False, batch_size=16)\n",
    "\n",
    "# 2) Build the evaluator’s inputs\n",
    "sentences1 = [ex.texts[0] for ex in dev_examples]\n",
    "sentences2 = [ex.texts[1] for ex in dev_examples]\n",
    "# since they’re all positives, give them a score of 1.0\n",
    "scores     = [1.0] * len(dev_examples)\n",
    "\n",
    "evaluator = evaluation.EmbeddingSimilarityEvaluator(\n",
    "    sentences1=sentences1,\n",
    "    sentences2=sentences2,\n",
    "    scores=scores\n",
    ")\n",
    "\n",
    "# 3) Load your base model\n",
    "model = SentenceTransformer(\"microsoft/deberta-v3-large\")\n",
    "\n",
    "# 4) Use MultipleNegativesRankingLoss\n",
    "train_loss = losses.MultipleNegativesRankingLoss(model)\n",
    "\n",
    "# 5) Fine-tune!\n",
    "model.fit(\n",
    "    train_objectives=[(train_dataloader, train_loss)],\n",
    "    evaluator=evaluator,\n",
    "    epochs=3,\n",
    "    warmup_steps=50,\n",
    "    output_path=\"deberta-v3-materials-finetuned\"\n",
    ")\n"
   ]
  },
  {
   "cell_type": "code",
   "execution_count": null,
   "id": "91774f48",
   "metadata": {},
   "outputs": [],
   "source": []
  }
 ],
 "metadata": {
  "kernelspec": {
   "display_name": "venv",
   "language": "python",
   "name": "python3"
  },
  "language_info": {
   "codemirror_mode": {
    "name": "ipython",
    "version": 3
   },
   "file_extension": ".py",
   "mimetype": "text/x-python",
   "name": "python",
   "nbconvert_exporter": "python",
   "pygments_lexer": "ipython3",
   "version": "3.10.0"
  }
 },
 "nbformat": 4,
 "nbformat_minor": 5
}
