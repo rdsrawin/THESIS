{
 "cells": [
  {
   "cell_type": "code",
   "execution_count": 17,
   "id": "3fd5c407",
   "metadata": {},
   "outputs": [
    {
     "name": "stdout",
     "output_type": "stream",
     "text": [
      "Requirement already satisfied: rank_bm25 in c:\\users\\hp\\desktop\\feb research\\venv\\lib\\site-packages (0.2.2)\n",
      "Requirement already satisfied: sentence-transformers in c:\\users\\hp\\desktop\\feb research\\venv\\lib\\site-packages (2.2.2)\n",
      "Requirement already satisfied: faiss-cpu in c:\\users\\hp\\desktop\\feb research\\venv\\lib\\site-packages (1.11.0)\n",
      "Requirement already satisfied: numpy in c:\\users\\hp\\desktop\\feb research\\venv\\lib\\site-packages (from rank_bm25) (2.2.5)\n",
      "Requirement already satisfied: transformers<5.0.0,>=4.6.0 in c:\\users\\hp\\desktop\\feb research\\venv\\lib\\site-packages (from sentence-transformers) (4.31.0)\n",
      "Requirement already satisfied: tqdm in c:\\users\\hp\\desktop\\feb research\\venv\\lib\\site-packages (from sentence-transformers) (4.67.1)\n",
      "Requirement already satisfied: torch>=1.6.0 in c:\\users\\hp\\desktop\\feb research\\venv\\lib\\site-packages (from sentence-transformers) (2.7.0+cpu)\n",
      "Requirement already satisfied: torchvision in c:\\users\\hp\\desktop\\feb research\\venv\\lib\\site-packages (from sentence-transformers) (0.22.0+cpu)\n",
      "Requirement already satisfied: scikit-learn in c:\\users\\hp\\desktop\\feb research\\venv\\lib\\site-packages (from sentence-transformers) (1.6.1)\n",
      "Requirement already satisfied: scipy in c:\\users\\hp\\desktop\\feb research\\venv\\lib\\site-packages (from sentence-transformers) (1.15.2)\n",
      "Requirement already satisfied: nltk in c:\\users\\hp\\desktop\\feb research\\venv\\lib\\site-packages (from sentence-transformers) (3.9.1)\n",
      "Requirement already satisfied: sentencepiece in c:\\users\\hp\\desktop\\feb research\\venv\\lib\\site-packages (from sentence-transformers) (0.2.0)\n",
      "Requirement already satisfied: huggingface-hub>=0.4.0 in c:\\users\\hp\\desktop\\feb research\\venv\\lib\\site-packages (from sentence-transformers) (0.25.2)\n",
      "Requirement already satisfied: filelock in c:\\users\\hp\\desktop\\feb research\\venv\\lib\\site-packages (from transformers<5.0.0,>=4.6.0->sentence-transformers) (3.18.0)\n",
      "Requirement already satisfied: packaging>=20.0 in c:\\users\\hp\\desktop\\feb research\\venv\\lib\\site-packages (from transformers<5.0.0,>=4.6.0->sentence-transformers) (24.2)\n",
      "Requirement already satisfied: pyyaml>=5.1 in c:\\users\\hp\\desktop\\feb research\\venv\\lib\\site-packages (from transformers<5.0.0,>=4.6.0->sentence-transformers) (6.0.2)\n",
      "Requirement already satisfied: regex!=2019.12.17 in c:\\users\\hp\\desktop\\feb research\\venv\\lib\\site-packages (from transformers<5.0.0,>=4.6.0->sentence-transformers) (2024.11.6)\n",
      "Requirement already satisfied: requests in c:\\users\\hp\\desktop\\feb research\\venv\\lib\\site-packages (from transformers<5.0.0,>=4.6.0->sentence-transformers) (2.32.3)\n",
      "Requirement already satisfied: tokenizers!=0.11.3,<0.14,>=0.11.1 in c:\\users\\hp\\desktop\\feb research\\venv\\lib\\site-packages (from transformers<5.0.0,>=4.6.0->sentence-transformers) (0.13.3)\n",
      "Requirement already satisfied: safetensors>=0.3.1 in c:\\users\\hp\\desktop\\feb research\\venv\\lib\\site-packages (from transformers<5.0.0,>=4.6.0->sentence-transformers) (0.5.3)\n",
      "Requirement already satisfied: fsspec>=2023.5.0 in c:\\users\\hp\\desktop\\feb research\\venv\\lib\\site-packages (from huggingface-hub>=0.4.0->sentence-transformers) (2025.3.2)\n",
      "Requirement already satisfied: typing-extensions>=3.7.4.3 in c:\\users\\hp\\desktop\\feb research\\venv\\lib\\site-packages (from huggingface-hub>=0.4.0->sentence-transformers) (4.13.2)\n",
      "Requirement already satisfied: sympy>=1.13.3 in c:\\users\\hp\\desktop\\feb research\\venv\\lib\\site-packages (from torch>=1.6.0->sentence-transformers) (1.13.3)\n",
      "Requirement already satisfied: networkx in c:\\users\\hp\\desktop\\feb research\\venv\\lib\\site-packages (from torch>=1.6.0->sentence-transformers) (3.3)\n",
      "Requirement already satisfied: jinja2 in c:\\users\\hp\\desktop\\feb research\\venv\\lib\\site-packages (from torch>=1.6.0->sentence-transformers) (3.1.4)\n",
      "Requirement already satisfied: mpmath<1.4,>=1.1.0 in c:\\users\\hp\\desktop\\feb research\\venv\\lib\\site-packages (from sympy>=1.13.3->torch>=1.6.0->sentence-transformers) (1.3.0)\n",
      "Requirement already satisfied: colorama in c:\\users\\hp\\desktop\\feb research\\venv\\lib\\site-packages (from tqdm->sentence-transformers) (0.4.6)\n",
      "Requirement already satisfied: MarkupSafe>=2.0 in c:\\users\\hp\\desktop\\feb research\\venv\\lib\\site-packages (from jinja2->torch>=1.6.0->sentence-transformers) (2.1.5)\n",
      "Requirement already satisfied: click in c:\\users\\hp\\desktop\\feb research\\venv\\lib\\site-packages (from nltk->sentence-transformers) (8.1.8)\n",
      "Requirement already satisfied: joblib in c:\\users\\hp\\desktop\\feb research\\venv\\lib\\site-packages (from nltk->sentence-transformers) (1.4.2)\n",
      "Requirement already satisfied: charset-normalizer<4,>=2 in c:\\users\\hp\\desktop\\feb research\\venv\\lib\\site-packages (from requests->transformers<5.0.0,>=4.6.0->sentence-transformers) (3.4.1)\n",
      "Requirement already satisfied: idna<4,>=2.5 in c:\\users\\hp\\desktop\\feb research\\venv\\lib\\site-packages (from requests->transformers<5.0.0,>=4.6.0->sentence-transformers) (3.10)\n",
      "Requirement already satisfied: urllib3<3,>=1.21.1 in c:\\users\\hp\\desktop\\feb research\\venv\\lib\\site-packages (from requests->transformers<5.0.0,>=4.6.0->sentence-transformers) (2.4.0)\n",
      "Requirement already satisfied: certifi>=2017.4.17 in c:\\users\\hp\\desktop\\feb research\\venv\\lib\\site-packages (from requests->transformers<5.0.0,>=4.6.0->sentence-transformers) (2025.1.31)\n",
      "Requirement already satisfied: threadpoolctl>=3.1.0 in c:\\users\\hp\\desktop\\feb research\\venv\\lib\\site-packages (from scikit-learn->sentence-transformers) (3.6.0)\n",
      "Requirement already satisfied: pillow!=8.3.*,>=5.3.0 in c:\\users\\hp\\desktop\\feb research\\venv\\lib\\site-packages (from torchvision->sentence-transformers) (11.0.0)\n",
      "Note: you may need to restart the kernel to use updated packages.\n"
     ]
    }
   ],
   "source": [
    "pip install rank_bm25 sentence-transformers faiss-cpu\n"
   ]
  },
  {
   "cell_type": "code",
   "execution_count": 19,
   "id": "dcd7ccfc",
   "metadata": {},
   "outputs": [],
   "source": [
    "import pandas as pd, ast\n",
    "df_meta = pd.read_csv(\"xmlAndHTML_data.csv\")\n",
    "df_meta[\"Para_list\"] = df_meta[\"Para_list\"].apply(lambda x: ast.literal_eval(x) if pd.notna(x) else [])\n",
    "df_long = df_meta.explode(\"Para_list\", ignore_index=True)\n",
    "paragraphs = df_long[\"Para_list\"].astype(str).tolist()"
   ]
  },
  {
   "cell_type": "code",
   "execution_count": 20,
   "id": "75d2e157",
   "metadata": {},
   "outputs": [],
   "source": [
    "from rank_bm25 import BM25Okapi\n",
    "\n",
    "# `paragraphs` is your list of all paragraph texts (len ≈ 110 k)\n",
    "tokenized_corpus = [p.split() for p in paragraphs]\n",
    "bm25 = BM25Okapi(tokenized_corpus)\n"
   ]
  },
  {
   "cell_type": "code",
   "execution_count": 21,
   "id": "98dca446",
   "metadata": {},
   "outputs": [
    {
     "name": "stderr",
     "output_type": "stream",
     "text": [
      "c:\\Users\\hp\\Desktop\\feb research\\venv\\lib\\site-packages\\huggingface_hub\\utils\\_deprecation.py:131: FutureWarning: 'cached_download' (from 'huggingface_hub.file_download') is deprecated and will be removed from version '0.26'. Use `hf_hub_download` instead.\n",
      "  warnings.warn(warning_message, FutureWarning)\n",
      "No sentence-transformers model found with name C:\\Users\\hp/.cache\\torch\\sentence_transformers\\facebook_contriever. Creating a new one with MEAN pooling.\n"
     ]
    }
   ],
   "source": [
    "from sentence_transformers import SentenceTransformer\n",
    "import faiss, numpy as np\n",
    "\n",
    "# Contriever is an open-source dense retriever from Meta\n",
    "densifier = SentenceTransformer(\"facebook/contriever\")  \n",
    "# (optionally normalize for cosine)              \n",
    "# build FAISS index if you haven’t:\n",
    "contriever_embs = densifier.encode(paragraphs, convert_to_numpy=True, normalize_embeddings=True)\n",
    "index_dense = faiss.IndexFlatIP(contriever_embs.shape[1])\n",
    "index_dense.add(contriever_embs)\n"
   ]
  },
  {
   "cell_type": "code",
   "execution_count": 22,
   "id": "9c5719c9",
   "metadata": {},
   "outputs": [
    {
     "name": "stderr",
     "output_type": "stream",
     "text": [
      "c:\\Users\\hp\\Desktop\\feb research\\venv\\lib\\site-packages\\huggingface_hub\\file_download.py:1142: FutureWarning: `resume_download` is deprecated and will be removed in version 1.0.0. Downloads always resume when possible. If you want to force a new download, use `force_download=True`.\n",
      "  warnings.warn(\n",
      "c:\\Users\\hp\\Desktop\\feb research\\venv\\lib\\site-packages\\huggingface_hub\\file_download.py:147: UserWarning: `huggingface_hub` cache-system uses symlinks by default to efficiently store duplicated files but your machine does not support them in C:\\Users\\hp\\.cache\\huggingface\\hub\\models--cross-encoder--ms-marco-MiniLM-L-6-v2. Caching files will still work but in a degraded version that might require more space on your disk. This warning can be disabled by setting the `HF_HUB_DISABLE_SYMLINKS_WARNING` environment variable. For more details, see https://huggingface.co/docs/huggingface_hub/how-to-cache#limitations.\n",
      "To support symlinks on Windows, you either need to activate Developer Mode or to run Python as an administrator. In order to activate developer mode, see this article: https://docs.microsoft.com/en-us/windows/apps/get-started/enable-your-device-for-development\n",
      "  warnings.warn(message)\n"
     ]
    }
   ],
   "source": [
    "from sentence_transformers import CrossEncoder\n",
    "\n",
    "# Cross-encoder for re-ranking (e.g. MS-MARCO MiniLM)\n",
    "reranker = CrossEncoder(\"cross-encoder/ms-marco-MiniLM-L-6-v2\")\n",
    "\n",
    "def hybrid_retrieve(query, top_bm25=100, top_dense=100, top_final=10):\n",
    "    # 1) BM25 hits\n",
    "    q_tokens = query.split()\n",
    "    bm25_scores = bm25.get_scores(q_tokens)\n",
    "    bm25_ids    = np.argsort(bm25_scores)[-top_bm25:][::-1]\n",
    "\n",
    "    # 2) Dense hits\n",
    "    q_emb       = densifier.encode([query], normalize_embeddings=True, convert_to_numpy=True).astype(\"float32\")\n",
    "    Dd, dense_ids = index_dense.search(q_emb, top_dense)\n",
    "\n",
    "    # 3) Union IDs (dedupe while preserving order)\n",
    "    union_ids = []\n",
    "    for arr in (dense_ids[0], bm25_ids):\n",
    "        for i in arr:\n",
    "            if i not in union_ids:\n",
    "                union_ids.append(i)\n",
    "\n",
    "    # 4) Re-rank with cross-encoder\n",
    "    pairs = [(query, paragraphs[i]) for i in union_ids]\n",
    "    rerank_scores = reranker.predict(pairs)\n",
    "    ranked = sorted(zip(union_ids, rerank_scores), key=lambda x: x[1], reverse=True)[:top_final]\n",
    "\n",
    "    # 5) Return (score, paragraph)\n",
    "    return [(float(score), paragraphs[idx]) for idx, score in ranked]\n"
   ]
  },
  {
   "cell_type": "code",
   "execution_count": 23,
   "id": "c894fc29",
   "metadata": {},
   "outputs": [
    {
     "name": "stdout",
     "output_type": "stream",
     "text": [
      "[5.290] How does crack self-healing vary with annealing Taand ta?…\n",
      "\n",
      "[4.774] The paper is organized in a way that seeks answers to the following questions:1.How does crack self-healing vary with annealing Taand ta?2.What is the primary mechanism of crack self-healing?3.How do …\n",
      "\n",
      "[4.108] The results of tensile tests, including fractography, at RT and -150 °C clearly show that high temperature, short time anneals self-heal the pre-existing MCs in NFA-1. Self-healing begins in the 111-c…\n",
      "\n",
      "[4.101] Here, we investigate a newly discovered mechanism for crack self-healing in NFA-1 under high temperature annealing. This mechanism is associated with Ti-carbooxinitride (TiCON) precipitate growth and …\n",
      "\n",
      "[3.555] Based on the mechanical property trends, as confirmed by the microstructural characterization and fractographic studies, we conclude that crack self-healing starts at 1100 °C, and is essentially compl…\n",
      "\n"
     ]
    }
   ],
   "source": [
    "for score, para in hybrid_retrieve(\n",
    "    \"How does crack self-healing vary with annealing temperature and time?\",\n",
    "    top_bm25=200, top_dense=200, top_final=5\n",
    "):\n",
    "    print(f\"[{score:.3f}] {para[:200]}…\\n\")\n"
   ]
  },
  {
   "cell_type": "code",
   "execution_count": null,
   "id": "9c851d27",
   "metadata": {},
   "outputs": [],
   "source": []
  }
 ],
 "metadata": {
  "kernelspec": {
   "display_name": "venv",
   "language": "python",
   "name": "python3"
  },
  "language_info": {
   "codemirror_mode": {
    "name": "ipython",
    "version": 3
   },
   "file_extension": ".py",
   "mimetype": "text/x-python",
   "name": "python",
   "nbconvert_exporter": "python",
   "pygments_lexer": "ipython3",
   "version": "3.10.0"
  }
 },
 "nbformat": 4,
 "nbformat_minor": 5
}
