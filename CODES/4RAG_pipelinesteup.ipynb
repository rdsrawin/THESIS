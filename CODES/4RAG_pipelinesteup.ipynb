{
 "cells": [
  {
   "cell_type": "code",
   "execution_count": 1,
   "id": "210283ed",
   "metadata": {},
   "outputs": [
    {
     "name": "stderr",
     "output_type": "stream",
     "text": [
      "c:\\Users\\hp\\Desktop\\feb research\\venv\\lib\\site-packages\\tqdm\\auto.py:21: TqdmWarning: IProgress not found. Please update jupyter and ipywidgets. See https://ipywidgets.readthedocs.io/en/stable/user_install.html\n",
      "  from .autonotebook import tqdm as notebook_tqdm\n"
     ]
    }
   ],
   "source": [
    "import pandas as pd\n",
    "from sentence_transformers import SentenceTransformer\n",
    "import faiss\n",
    "import numpy as np\n",
    "from pathlib import Path\n",
    "from tqdm.auto import tqdm"
   ]
  },
  {
   "cell_type": "code",
   "execution_count": 3,
   "id": "ac1086e9",
   "metadata": {},
   "outputs": [],
   "source": [
    "DATA_PATH = Path('article_paragraphs.csv')\n",
    "df = pd.read_csv(DATA_PATH)\n"
   ]
  },
  {
   "cell_type": "code",
   "execution_count": 4,
   "id": "65f510f3",
   "metadata": {},
   "outputs": [
    {
     "name": "stdout",
     "output_type": "stream",
     "text": [
      "['doi', 'title', 'abstract', 'paragraphs', 'n_paras']\n"
     ]
    },
    {
     "data": {
      "text/html": [
       "<div>\n",
       "<style scoped>\n",
       "    .dataframe tbody tr th:only-of-type {\n",
       "        vertical-align: middle;\n",
       "    }\n",
       "\n",
       "    .dataframe tbody tr th {\n",
       "        vertical-align: top;\n",
       "    }\n",
       "\n",
       "    .dataframe thead th {\n",
       "        text-align: right;\n",
       "    }\n",
       "</style>\n",
       "<table border=\"1\" class=\"dataframe\">\n",
       "  <thead>\n",
       "    <tr style=\"text-align: right;\">\n",
       "      <th></th>\n",
       "      <th>doi</th>\n",
       "      <th>title</th>\n",
       "      <th>abstract</th>\n",
       "      <th>paragraphs</th>\n",
       "      <th>n_paras</th>\n",
       "    </tr>\n",
       "  </thead>\n",
       "  <tbody>\n",
       "    <tr>\n",
       "      <th>0</th>\n",
       "      <td>10.1006/jcis.1996.4536</td>\n",
       "      <td>Characterization of the Interface between a Ro...</td>\n",
       "      <td>We introduce a technique to characterize,in si...</td>\n",
       "      <td>NaN</td>\n",
       "      <td>0</td>\n",
       "    </tr>\n",
       "    <tr>\n",
       "      <th>1</th>\n",
       "      <td>10.1006/jssc.1999.8570</td>\n",
       "      <td>Relationships between Structure and Physical P...</td>\n",
       "      <td>The crystal structure of SmNi1−x Co x O3 perov...</td>\n",
       "      <td>NaN</td>\n",
       "      <td>0</td>\n",
       "    </tr>\n",
       "    <tr>\n",
       "      <th>2</th>\n",
       "      <td>10.1006/jssc.1999.8590</td>\n",
       "      <td>Metal–Insulator Transition and Magnetic Proper...</td>\n",
       "      <td>This paper reports X-ray diffraction patterns,...</td>\n",
       "      <td>NaN</td>\n",
       "      <td>0</td>\n",
       "    </tr>\n",
       "    <tr>\n",
       "      <th>3</th>\n",
       "      <td>10.1006/spmi.1999.0720</td>\n",
       "      <td>Tunable supercurrent in superconductor/normal ...</td>\n",
       "      <td>When two superconductors are connected by a we...</td>\n",
       "      <td>NaN</td>\n",
       "      <td>0</td>\n",
       "    </tr>\n",
       "    <tr>\n",
       "      <th>4</th>\n",
       "      <td>10.1006/spmi.2000.0877</td>\n",
       "      <td>Interface-charged impurity scattering in semic...</td>\n",
       "      <td>We present the results on the anomalous 2D tra...</td>\n",
       "      <td>NaN</td>\n",
       "      <td>0</td>\n",
       "    </tr>\n",
       "  </tbody>\n",
       "</table>\n",
       "</div>"
      ],
      "text/plain": [
       "                      doi                                              title  \\\n",
       "0  10.1006/jcis.1996.4536  Characterization of the Interface between a Ro...   \n",
       "1  10.1006/jssc.1999.8570  Relationships between Structure and Physical P...   \n",
       "2  10.1006/jssc.1999.8590  Metal–Insulator Transition and Magnetic Proper...   \n",
       "3  10.1006/spmi.1999.0720  Tunable supercurrent in superconductor/normal ...   \n",
       "4  10.1006/spmi.2000.0877  Interface-charged impurity scattering in semic...   \n",
       "\n",
       "                                            abstract paragraphs  n_paras  \n",
       "0  We introduce a technique to characterize,in si...        NaN        0  \n",
       "1  The crystal structure of SmNi1−x Co x O3 perov...        NaN        0  \n",
       "2  This paper reports X-ray diffraction patterns,...        NaN        0  \n",
       "3  When two superconductors are connected by a we...        NaN        0  \n",
       "4  We present the results on the anomalous 2D tra...        NaN        0  "
      ]
     },
     "execution_count": 4,
     "metadata": {},
     "output_type": "execute_result"
    }
   ],
   "source": [
    "print(df.columns.tolist())\n",
    "df.head()\n"
   ]
  },
  {
   "cell_type": "code",
   "execution_count": 5,
   "id": "fa7d016e",
   "metadata": {},
   "outputs": [
    {
     "name": "stdout",
     "output_type": "stream",
     "text": [
      "Index(['doi', 'title', 'abstract', 'paragraphs', 'n_paras'], dtype='object')\n"
     ]
    },
    {
     "data": {
      "text/html": [
       "<div>\n",
       "<style scoped>\n",
       "    .dataframe tbody tr th:only-of-type {\n",
       "        vertical-align: middle;\n",
       "    }\n",
       "\n",
       "    .dataframe tbody tr th {\n",
       "        vertical-align: top;\n",
       "    }\n",
       "\n",
       "    .dataframe thead th {\n",
       "        text-align: right;\n",
       "    }\n",
       "</style>\n",
       "<table border=\"1\" class=\"dataframe\">\n",
       "  <thead>\n",
       "    <tr style=\"text-align: right;\">\n",
       "      <th></th>\n",
       "      <th>doi</th>\n",
       "      <th>title</th>\n",
       "      <th>abstract</th>\n",
       "      <th>paragraphs</th>\n",
       "      <th>n_paras</th>\n",
       "    </tr>\n",
       "  </thead>\n",
       "  <tbody>\n",
       "    <tr>\n",
       "      <th>0</th>\n",
       "      <td>10.1006/jcis.1996.4536</td>\n",
       "      <td>Characterization of the Interface between a Ro...</td>\n",
       "      <td>We introduce a technique to characterize,in si...</td>\n",
       "      <td>NaN</td>\n",
       "      <td>0</td>\n",
       "    </tr>\n",
       "    <tr>\n",
       "      <th>1</th>\n",
       "      <td>10.1006/jssc.1999.8570</td>\n",
       "      <td>Relationships between Structure and Physical P...</td>\n",
       "      <td>The crystal structure of SmNi1−x Co x O3 perov...</td>\n",
       "      <td>NaN</td>\n",
       "      <td>0</td>\n",
       "    </tr>\n",
       "    <tr>\n",
       "      <th>2</th>\n",
       "      <td>10.1006/jssc.1999.8590</td>\n",
       "      <td>Metal–Insulator Transition and Magnetic Proper...</td>\n",
       "      <td>This paper reports X-ray diffraction patterns,...</td>\n",
       "      <td>NaN</td>\n",
       "      <td>0</td>\n",
       "    </tr>\n",
       "    <tr>\n",
       "      <th>3</th>\n",
       "      <td>10.1006/spmi.1999.0720</td>\n",
       "      <td>Tunable supercurrent in superconductor/normal ...</td>\n",
       "      <td>When two superconductors are connected by a we...</td>\n",
       "      <td>NaN</td>\n",
       "      <td>0</td>\n",
       "    </tr>\n",
       "    <tr>\n",
       "      <th>4</th>\n",
       "      <td>10.1006/spmi.2000.0877</td>\n",
       "      <td>Interface-charged impurity scattering in semic...</td>\n",
       "      <td>We present the results on the anomalous 2D tra...</td>\n",
       "      <td>NaN</td>\n",
       "      <td>0</td>\n",
       "    </tr>\n",
       "  </tbody>\n",
       "</table>\n",
       "</div>"
      ],
      "text/plain": [
       "                      doi                                              title  \\\n",
       "0  10.1006/jcis.1996.4536  Characterization of the Interface between a Ro...   \n",
       "1  10.1006/jssc.1999.8570  Relationships between Structure and Physical P...   \n",
       "2  10.1006/jssc.1999.8590  Metal–Insulator Transition and Magnetic Proper...   \n",
       "3  10.1006/spmi.1999.0720  Tunable supercurrent in superconductor/normal ...   \n",
       "4  10.1006/spmi.2000.0877  Interface-charged impurity scattering in semic...   \n",
       "\n",
       "                                            abstract paragraphs  n_paras  \n",
       "0  We introduce a technique to characterize,in si...        NaN        0  \n",
       "1  The crystal structure of SmNi1−x Co x O3 perov...        NaN        0  \n",
       "2  This paper reports X-ray diffraction patterns,...        NaN        0  \n",
       "3  When two superconductors are connected by a we...        NaN        0  \n",
       "4  We present the results on the anomalous 2D tra...        NaN        0  "
      ]
     },
     "execution_count": 5,
     "metadata": {},
     "output_type": "execute_result"
    }
   ],
   "source": [
    "df = pd.read_csv('article_paragraphs.csv')\n",
    "print(df.columns)\n",
    "df.head()\n"
   ]
  },
  {
   "cell_type": "code",
   "execution_count": 10,
   "id": "5e18a2f7",
   "metadata": {},
   "outputs": [
    {
     "name": "stdout",
     "output_type": "stream",
     "text": [
      "Total paragraphs: 110,280\n"
     ]
    }
   ],
   "source": [
    "import ast, pandas as pd\n",
    "\n",
    "# 1 ) Load the file with paragraph lists\n",
    "df_meta = pd.read_csv('xmlAndHTML_data.csv')\n",
    "\n",
    "# 2 ) Turn the string representation of a list into an actual list\n",
    "df_meta['Para_list'] = df_meta['Para_list'].apply(\n",
    "    lambda x: ast.literal_eval(x) if pd.notna(x) and x.strip() else [])\n",
    "\n",
    "# 3 ) Explode so each paragraph is its own row\n",
    "df_long = df_meta.explode('Para_list', ignore_index=True)\n",
    "\n",
    "# 4 ) Rename for clarity and drop empties\n",
    "df_long = (\n",
    "    df_long.rename(columns={'Para_list': 'text'})\n",
    "            .assign(text=lambda d: d['text'].str.strip())\n",
    "            .loc[lambda d: d['text'] != '']\n",
    ")\n",
    "\n",
    "# Ensure every entry is a plain string\n",
    "paragraphs = [str(p) for p in paragraphs]\n",
    "print(f\"Total paragraphs: {len(df_long):,}\")\n",
    "paragraphs = df_long['text'].tolist()\n"
   ]
  },
  {
   "cell_type": "code",
   "execution_count": 12,
   "id": "20f00686",
   "metadata": {},
   "outputs": [],
   "source": [
    "# Ensure every entry is a plain string\n",
    "paragraphs = [str(p) for p in paragraphs]"
   ]
  },
  {
   "cell_type": "code",
   "execution_count": 13,
   "id": "d1869a05",
   "metadata": {},
   "outputs": [
    {
     "name": "stderr",
     "output_type": "stream",
     "text": [
      "100%|██████████| 862/862 [27:42<00:00,  1.93s/it]\n"
     ]
    },
    {
     "name": "stdout",
     "output_type": "stream",
     "text": [
      "Embeddings shape: (110280, 384)\n",
      "Saved raw embeddings → paragraph_embeddings.npy\n",
      "FAISS index with 110,280 vectors saved → paragraph_index.faiss\n",
      "Paragraph texts saved → paragraph_texts.npy\n"
     ]
    }
   ],
   "source": [
    "# 🔑 1. Pick / install the model once (comment out after first run)\n",
    "# !pip install -q sentence-transformers\n",
    "\n",
    "from sentence_transformers import SentenceTransformer\n",
    "import numpy as np\n",
    "from tqdm.auto import tqdm\n",
    "import faiss, os, gc\n",
    "\n",
    "# -----------------------------------------------------------\n",
    "# CONFIG\n",
    "MODEL_NAME  = \"sentence-transformers/all-MiniLM-L6-v2\"\n",
    "BATCH_SIZE  =  128          # tweak up/down for RAM vs speed\n",
    "EMB_PATH    = \"paragraph_embeddings.npy\"\n",
    "INDEX_PATH  = \"paragraph_index.faiss\"\n",
    "TEXTS_PATH  = \"paragraph_texts.npy\"\n",
    "# -----------------------------------------------------------\n",
    "\n",
    "# 2. Load model (GPU if available, else CPU)\n",
    "model = SentenceTransformer(MODEL_NAME)\n",
    "\n",
    "# 3. Encode in batches → list of np.arrays → vertical stack\n",
    "all_embeds = []\n",
    "for i in tqdm(range(0, len(paragraphs), BATCH_SIZE)):\n",
    "    batch = paragraphs[i:i + BATCH_SIZE]\n",
    "    emb   = model.encode(\n",
    "        batch,\n",
    "        convert_to_numpy=True,\n",
    "        normalize_embeddings=True,   # cosine similarity ready\n",
    "        show_progress_bar=False\n",
    "    )\n",
    "    all_embeds.append(emb.astype(\"float32\"))   # FAISS likes float32\n",
    "\n",
    "# 4. Combine & free memory\n",
    "embeddings = np.vstack(all_embeds)\n",
    "del all_embeds; gc.collect()\n",
    "print(\"Embeddings shape:\", embeddings.shape)   # (110280, 384)\n",
    "\n",
    "# 5. Save raw embeddings (optional but handy)\n",
    "np.save(EMB_PATH, embeddings)\n",
    "print(f\"Saved raw embeddings → {EMB_PATH}\")\n",
    "\n",
    "# 6. Build FAISS index (cosine sim via inner product)\n",
    "index = faiss.IndexFlatIP(embeddings.shape[1])\n",
    "index.add(embeddings)\n",
    "faiss.write_index(index, INDEX_PATH)\n",
    "print(f\"FAISS index with {index.ntotal:,} vectors saved → {INDEX_PATH}\")\n",
    "\n",
    "# 7. Persist texts so you can reload quickly later\n",
    "np.save(TEXTS_PATH, np.array(paragraphs, dtype=object))\n",
    "print(f\"Paragraph texts saved → {TEXTS_PATH}\")\n"
   ]
  },
  {
   "cell_type": "code",
   "execution_count": 14,
   "id": "e114f51b",
   "metadata": {},
   "outputs": [
    {
     "name": "stdout",
     "output_type": "stream",
     "text": [
      "[0.664] The first point we make is that the observed metal–insulator transition occurs at electron densities where the ionized impurity scattering dominates. In particular, the 2D M-I-T is only seen in samples with highμmax, and usually withnc≪nmax. In our o…\n",
      "\n",
      "[0.627] We now consider as an example[31]a direct consequence of our observation that the 2D M-I-Talwaysoccurs in a regime dominated by random long range charged impurity scattering (and not by the short range interface roughness scattering, which is effecti…\n",
      "\n",
      "[0.621] In this paper we will focus on the low-temperature transport properties of metals determined by the elastic scattering of electrons from static impurities. In weakly disordered samples, when the wavelength of the electrons is much smaller than their …\n",
      "\n"
     ]
    }
   ],
   "source": [
    "import numpy as np, faiss\n",
    "from sentence_transformers import SentenceTransformer\n",
    "\n",
    "# 1. Load index & texts\n",
    "index      = faiss.read_index(\"paragraph_index.faiss\")\n",
    "paragraphs = np.load(\"paragraph_texts.npy\", allow_pickle=True)\n",
    "model      = SentenceTransformer(\"sentence-transformers/all-MiniLM-L6-v2\")\n",
    "\n",
    "def retrieve(query, top_k=5):\n",
    "    q_emb = model.encode([query], normalize_embeddings=True, convert_to_numpy=True).astype(\"float32\")\n",
    "    D, I  = index.search(q_emb, top_k)\n",
    "    return [(float(D[0][i]), paragraphs[I[0][i]]) for i in range(top_k)]\n",
    "\n",
    "for score, para in retrieve(\"How does interface‑charged impurity scattering affect 2‑D transport?\", top_k=3):\n",
    "    print(f\"[{score:.3f}] {para[:250]}…\\n\")\n"
   ]
  },
  {
   "cell_type": "code",
   "execution_count": 17,
   "id": "cc324e06",
   "metadata": {},
   "outputs": [
    {
     "name": "stdout",
     "output_type": "stream",
     "text": [
      "Requirement already satisfied: openai in c:\\users\\hp\\desktop\\feb research\\venv\\lib\\site-packages (1.77.0)\n",
      "Requirement already satisfied: anyio<5,>=3.5.0 in c:\\users\\hp\\desktop\\feb research\\venv\\lib\\site-packages (from openai) (4.9.0)\n",
      "Requirement already satisfied: distro<2,>=1.7.0 in c:\\users\\hp\\desktop\\feb research\\venv\\lib\\site-packages (from openai) (1.9.0)\n",
      "Requirement already satisfied: httpx<1,>=0.23.0 in c:\\users\\hp\\desktop\\feb research\\venv\\lib\\site-packages (from openai) (0.28.1)\n",
      "Requirement already satisfied: jiter<1,>=0.4.0 in c:\\users\\hp\\desktop\\feb research\\venv\\lib\\site-packages (from openai) (0.9.0)\n",
      "Requirement already satisfied: pydantic<3,>=1.9.0 in c:\\users\\hp\\desktop\\feb research\\venv\\lib\\site-packages (from openai) (2.11.4)\n",
      "Requirement already satisfied: sniffio in c:\\users\\hp\\desktop\\feb research\\venv\\lib\\site-packages (from openai) (1.3.1)\n",
      "Requirement already satisfied: tqdm>4 in c:\\users\\hp\\desktop\\feb research\\venv\\lib\\site-packages (from openai) (4.67.1)\n",
      "Requirement already satisfied: typing-extensions<5,>=4.11 in c:\\users\\hp\\desktop\\feb research\\venv\\lib\\site-packages (from openai) (4.13.2)\n",
      "Requirement already satisfied: exceptiongroup>=1.0.2 in c:\\users\\hp\\desktop\\feb research\\venv\\lib\\site-packages (from anyio<5,>=3.5.0->openai) (1.2.2)\n",
      "Requirement already satisfied: idna>=2.8 in c:\\users\\hp\\desktop\\feb research\\venv\\lib\\site-packages (from anyio<5,>=3.5.0->openai) (3.10)\n",
      "Requirement already satisfied: certifi in c:\\users\\hp\\desktop\\feb research\\venv\\lib\\site-packages (from httpx<1,>=0.23.0->openai) (2025.1.31)\n",
      "Requirement already satisfied: httpcore==1.* in c:\\users\\hp\\desktop\\feb research\\venv\\lib\\site-packages (from httpx<1,>=0.23.0->openai) (1.0.9)\n",
      "Requirement already satisfied: h11>=0.16 in c:\\users\\hp\\desktop\\feb research\\venv\\lib\\site-packages (from httpcore==1.*->httpx<1,>=0.23.0->openai) (0.16.0)\n",
      "Requirement already satisfied: annotated-types>=0.6.0 in c:\\users\\hp\\desktop\\feb research\\venv\\lib\\site-packages (from pydantic<3,>=1.9.0->openai) (0.7.0)\n",
      "Requirement already satisfied: pydantic-core==2.33.2 in c:\\users\\hp\\desktop\\feb research\\venv\\lib\\site-packages (from pydantic<3,>=1.9.0->openai) (2.33.2)\n",
      "Requirement already satisfied: typing-inspection>=0.4.0 in c:\\users\\hp\\desktop\\feb research\\venv\\lib\\site-packages (from pydantic<3,>=1.9.0->openai) (0.4.0)\n",
      "Requirement already satisfied: colorama in c:\\users\\hp\\desktop\\feb research\\venv\\lib\\site-packages (from tqdm>4->openai) (0.4.6)\n"
     ]
    }
   ],
   "source": [
    "!pip install --upgrade openai"
   ]
  }
 ],
 "metadata": {
  "kernelspec": {
   "display_name": "venv",
   "language": "python",
   "name": "python3"
  },
  "language_info": {
   "codemirror_mode": {
    "name": "ipython",
    "version": 3
   },
   "file_extension": ".py",
   "mimetype": "text/x-python",
   "name": "python",
   "nbconvert_exporter": "python",
   "pygments_lexer": "ipython3",
   "version": "3.10.0"
  }
 },
 "nbformat": 4,
 "nbformat_minor": 5
}
